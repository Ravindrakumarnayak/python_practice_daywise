{
  "nbformat": 4,
  "nbformat_minor": 0,
  "metadata": {
    "colab": {
      "provenance": [],
      "authorship_tag": "ABX9TyOrrtCQKUnriZyLnVEjLM2M",
      "include_colab_link": true
    },
    "kernelspec": {
      "name": "python3",
      "display_name": "Python 3"
    },
    "language_info": {
      "name": "python"
    }
  },
  "cells": [
    {
      "cell_type": "markdown",
      "metadata": {
        "id": "view-in-github",
        "colab_type": "text"
      },
      "source": [
        "<a href=\"https://colab.research.google.com/github/Ravindrakumarnayak/python_practice_daywise/blob/main/python_day4_practice.ipynb\" target=\"_parent\"><img src=\"https://colab.research.google.com/assets/colab-badge.svg\" alt=\"Open In Colab\"/></a>"
      ]
    },
    {
      "cell_type": "code",
      "execution_count": 1,
      "metadata": {
        "colab": {
          "base_uri": "https://localhost:8080/"
        },
        "id": "l9jlcVq9XKq7",
        "outputId": "579afeb2-78e7-4b97-d0a6-f33b46de5f2a"
      },
      "outputs": [
        {
          "output_type": "stream",
          "name": "stdout",
          "text": [
            "num is greater than 10\n"
          ]
        }
      ],
      "source": [
        "# if statements\n",
        "\n",
        "num=11\n",
        "if num>10:\n",
        "  print(\"num is greater than 10\")"
      ]
    },
    {
      "cell_type": "code",
      "source": [
        "num= int(input(\"enter the number\")) # user input taken\n",
        "if num>10:\n",
        "  print(\"num is greater than 10\") # true block\n",
        "else:\n",
        "  print(\"num is not greater than 10\")  # false block"
      ],
      "metadata": {
        "colab": {
          "base_uri": "https://localhost:8080/"
        },
        "id": "c9FDf7hiXrLc",
        "outputId": "a80a33d8-a0a6-43f4-f164-93d04b818489"
      },
      "execution_count": 6,
      "outputs": [
        {
          "output_type": "stream",
          "name": "stdout",
          "text": [
            "enter the number2\n",
            "num is not greater than 10\n"
          ]
        }
      ]
    },
    {
      "cell_type": "code",
      "source": [
        " # for number input and finding +ve and -ve or 0\n",
        "\n",
        " num=int(input(\"enter the number\"))\n",
        "\n",
        " if num >0:\n",
        "  print(\"+ve\")\n",
        " elif num<0:\n",
        "  print(\"-ve\")\n",
        " elif num==0:\n",
        "  print(\"0\")\n",
        " else:\n",
        "  print(\"not possible\")"
      ],
      "metadata": {
        "colab": {
          "base_uri": "https://localhost:8080/"
        },
        "id": "a6J67-UfX9lF",
        "outputId": "447336f8-470f-4afb-e616-a03ca6d1dd48"
      },
      "execution_count": 10,
      "outputs": [
        {
          "output_type": "stream",
          "name": "stdout",
          "text": [
            "enter the number7\n",
            "+ve\n"
          ]
        }
      ]
    },
    {
      "cell_type": "code",
      "source": [
        " # input number from user and check whether it is greater than 2 and 3 or not\n",
        "\n",
        " a=int(input(\"enter the number\"))\n",
        "\n",
        "if ((a>2) and (a>3)):\n",
        "  print(\"num is greater than 2 and 3\")\n",
        "else:\n",
        "  print(\"not \")\n"
      ],
      "metadata": {
        "colab": {
          "base_uri": "https://localhost:8080/"
        },
        "id": "FrSIq-zHZY63",
        "outputId": "6e102d6c-e4b4-40d1-835e-767bc3c2eac3"
      },
      "execution_count": 14,
      "outputs": [
        {
          "output_type": "stream",
          "name": "stdout",
          "text": [
            "enter the number4\n",
            "num is greater than 2 and 3\n"
          ]
        }
      ]
    },
    {
      "cell_type": "code",
      "source": [
        " a=int(input(\"enter the number\"))\n",
        "\n",
        "if (a>2):\n",
        "  if (a>3):\n",
        "     print(\"num is greater than 2 and 3\")\n",
        "\n",
        "\n",
        "else:\n",
        "  print(\"not \")"
      ],
      "metadata": {
        "colab": {
          "base_uri": "https://localhost:8080/"
        },
        "id": "Dzf8ODObePhQ",
        "outputId": "d59a2e7d-5e64-4b6d-b1ee-c7cd1f04c98d"
      },
      "execution_count": 20,
      "outputs": [
        {
          "output_type": "stream",
          "name": "stdout",
          "text": [
            "enter the number2\n",
            "not \n"
          ]
        }
      ]
    },
    {
      "cell_type": "code",
      "source": [
        "num= int(input(\"enter number between 1 and 3\\n\"))\n",
        "\n",
        "if num==1:\n",
        "  print(\"piza \")\n",
        "if num==2:\n",
        "    print(\"toppings\")\n",
        "if num==3:\n",
        "      print(\"base\")\n",
        "else:\n",
        "  print(\"out of range\")\n",
        ""
      ],
      "metadata": {
        "colab": {
          "base_uri": "https://localhost:8080/"
        },
        "id": "Sc0C55vcix4N",
        "outputId": "f15b9b7b-b334-46f5-f5bb-bf4fa2b70123"
      },
      "execution_count": 44,
      "outputs": [
        {
          "output_type": "stream",
          "name": "stdout",
          "text": [
            "enter number between 1 and 3\n",
            "2\n",
            "toppings\n",
            "out of range\n"
          ]
        }
      ]
    },
    {
      "cell_type": "code",
      "source": [
        "# write a program for basic calculator, go for choice:\n",
        "\n",
        "a=int(input(\"enter the number\"))\n",
        "b=int(input (\"enter the 2nd number\"))\n",
        "\n",
        "\n",
        "if(a+b):\n",
        "  print(\"addition\")\n",
        "  if(a-b):\n",
        "    print(\"subtraction\")\n",
        "    if(a*b):\n",
        "      print(\"multiply\")\n",
        "      if(a/b):\n",
        "        print(\"division\")\n",
        "\n",
        "\n",
        "\n"
      ],
      "metadata": {
        "colab": {
          "base_uri": "https://localhost:8080/"
        },
        "id": "5r1moO81kpH7",
        "outputId": "f101c2f5-e5bf-43b5-c786-acd4e434561d"
      },
      "execution_count": 45,
      "outputs": [
        {
          "output_type": "stream",
          "name": "stdout",
          "text": [
            "enter the number2\n",
            "enter the 2nd number3\n",
            "addition\n",
            "subtraction\n",
            "multiply\n",
            "division\n"
          ]
        }
      ]
    },
    {
      "cell_type": "code",
      "source": [
        "\n",
        "a=int(input(\"enter the number\"))\n",
        "b=int(input (\"enter the 2nd number\"))\n",
        "\n",
        "choice= int(input(\"enter the choice 1:add \\n 2:sub \\n 3:multipy \\n  4:division \\n\"))\n",
        "\n",
        "if choice==1:\n",
        "  print(a+b)\n",
        "\n",
        "\n",
        "if choice==2:\n",
        "  print(a-b)\n",
        "\n",
        "\n",
        "if choice==3:\n",
        "  print(a*b)\n",
        "\n",
        "\n",
        "if choice==4:\n",
        "  print(a/b)\n",
        "\n",
        "else:\n",
        "  print(\"invalid input\")\n",
        "\n",
        "\n",
        "\n"
      ],
      "metadata": {
        "colab": {
          "base_uri": "https://localhost:8080/"
        },
        "id": "2Lb8KKYdjP4o",
        "outputId": "2865a859-f620-49c0-eaa7-fa147ae8ef07"
      },
      "execution_count": 55,
      "outputs": [
        {
          "output_type": "stream",
          "name": "stdout",
          "text": [
            "enter the number2\n",
            "enter the 2nd number3\n",
            "enter the choice 1:add \n",
            " 2:sub \n",
            " 3:multipy \n",
            "  4:division \n",
            "2\n",
            "-1\n",
            "invalid input\n"
          ]
        }
      ]
    },
    {
      "cell_type": "code",
      "source": [
        "# palindrome\n",
        "\n",
        "\n",
        "S=input(\"enter the name \\n\")\n",
        "revS=S[::-1]\n",
        "print(revS)\n",
        "\n",
        "if(S==revS):\n",
        "  print(\"palindrome\")\n",
        "else:\n",
        "  print(\"not palindrome\")\n",
        "\n"
      ],
      "metadata": {
        "colab": {
          "base_uri": "https://localhost:8080/"
        },
        "id": "BsiLY4qmowC6",
        "outputId": "fe90dd5c-0a25-4090-e8f6-496da4f7af31"
      },
      "execution_count": 64,
      "outputs": [
        {
          "output_type": "stream",
          "name": "stdout",
          "text": [
            "enter the name \n",
            "malayalam\n",
            "malayalam\n",
            "palindrome\n"
          ]
        }
      ]
    },
    {
      "cell_type": "code",
      "source": [
        "# end of day4"
      ],
      "metadata": {
        "id": "CLpPQDgzrHEg"
      },
      "execution_count": null,
      "outputs": []
    },
    {
      "cell_type": "code",
      "source": [],
      "metadata": {
        "id": "MJi9XDCcp3aC"
      },
      "execution_count": null,
      "outputs": []
    }
  ]
}