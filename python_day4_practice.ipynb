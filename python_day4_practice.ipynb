{
  "nbformat": 4,
  "nbformat_minor": 0,
  "metadata": {
    "colab": {
      "provenance": [],
      "authorship_tag": "ABX9TyPQFSV4taJ+f2TkY4hbOGy+",
      "include_colab_link": true
    },
    "kernelspec": {
      "name": "python3",
      "display_name": "Python 3"
    },
    "language_info": {
      "name": "python"
    }
  },
  "cells": [
    {
      "cell_type": "markdown",
      "metadata": {
        "id": "view-in-github",
        "colab_type": "text"
      },
      "source": [
        "<a href=\"https://colab.research.google.com/github/Ravindrakumarnayak/python_practice_daywise/blob/main/python_day4_practice.ipynb\" target=\"_parent\"><img src=\"https://colab.research.google.com/assets/colab-badge.svg\" alt=\"Open In Colab\"/></a>"
      ]
    },
    {
      "cell_type": "code",
      "execution_count": 1,
      "metadata": {
        "colab": {
          "base_uri": "https://localhost:8080/"
        },
        "id": "l9jlcVq9XKq7",
        "outputId": "579afeb2-78e7-4b97-d0a6-f33b46de5f2a"
      },
      "outputs": [
        {
          "output_type": "stream",
          "name": "stdout",
          "text": [
            "num is greater than 10\n"
          ]
        }
      ],
      "source": [
        "# if statements\n",
        "\n",
        "num=11\n",
        "if num>10:\n",
        "  print(\"num is greater than 10\")"
      ]
    },
    {
      "cell_type": "code",
      "source": [
        "num= int(input(\"enter the number\")) # user input taken\n",
        "if num>10:\n",
        "  print(\"num is greater than 10\") # true block\n",
        "else:\n",
        "  print(\"num is not greater than 10\")  # false block"
      ],
      "metadata": {
        "colab": {
          "base_uri": "https://localhost:8080/"
        },
        "id": "c9FDf7hiXrLc",
        "outputId": "a80a33d8-a0a6-43f4-f164-93d04b818489"
      },
      "execution_count": 6,
      "outputs": [
        {
          "output_type": "stream",
          "name": "stdout",
          "text": [
            "enter the number2\n",
            "num is not greater than 10\n"
          ]
        }
      ]
    },
    {
      "cell_type": "code",
      "source": [
        " # for number input and finding +ve and -ve or 0\n",
        "\n",
        " num=int(input(\"enter the number\"))\n",
        "\n",
        " if num >0:\n",
        "  print(\"+ve\")\n",
        " elif num<0:\n",
        "  print(\"-ve\")\n",
        " elif num==0:\n",
        "  print(\"0\")\n",
        " else:\n",
        "  print(\"not possible\")"
      ],
      "metadata": {
        "colab": {
          "base_uri": "https://localhost:8080/"
        },
        "id": "a6J67-UfX9lF",
        "outputId": "447336f8-470f-4afb-e616-a03ca6d1dd48"
      },
      "execution_count": 10,
      "outputs": [
        {
          "output_type": "stream",
          "name": "stdout",
          "text": [
            "enter the number7\n",
            "+ve\n"
          ]
        }
      ]
    },
    {
      "cell_type": "code",
      "source": [
        " # input number from user and check whether it is greater than 2 and 3 or not\n",
        "\n",
        " a=int(input(\"enter the number\"))\n",
        "\n",
        "if ((a>2) and (a>3)):\n",
        "  print(\"num is greater than 2 and 3\")\n",
        "else:\n",
        "  print(\"not \")\n"
      ],
      "metadata": {
        "colab": {
          "base_uri": "https://localhost:8080/"
        },
        "id": "FrSIq-zHZY63",
        "outputId": "6e102d6c-e4b4-40d1-835e-767bc3c2eac3"
      },
      "execution_count": 14,
      "outputs": [
        {
          "output_type": "stream",
          "name": "stdout",
          "text": [
            "enter the number4\n",
            "num is greater than 2 and 3\n"
          ]
        }
      ]
    },
    {
      "cell_type": "code",
      "source": [
        " a=int(input(\"enter the number\"))\n",
        "\n",
        "if (a>2):\n",
        "  if (a>3):\n",
        "     print(\"num is greater than 2 and 3\")\n",
        "\n",
        "\n",
        "else:\n",
        "  print(\"not \")"
      ],
      "metadata": {
        "colab": {
          "base_uri": "https://localhost:8080/"
        },
        "id": "Dzf8ODObePhQ",
        "outputId": "d59a2e7d-5e64-4b6d-b1ee-c7cd1f04c98d"
      },
      "execution_count": 20,
      "outputs": [
        {
          "output_type": "stream",
          "name": "stdout",
          "text": [
            "enter the number2\n",
            "not \n"
          ]
        }
      ]
    }
  ]
}