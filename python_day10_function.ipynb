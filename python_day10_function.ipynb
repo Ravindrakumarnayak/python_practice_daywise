{
  "nbformat": 4,
  "nbformat_minor": 0,
  "metadata": {
    "colab": {
      "provenance": [],
      "authorship_tag": "ABX9TyPYvkeyYDUtni1iEuIDM8L6",
      "include_colab_link": true
    },
    "kernelspec": {
      "name": "python3",
      "display_name": "Python 3"
    },
    "language_info": {
      "name": "python"
    }
  },
  "cells": [
    {
      "cell_type": "markdown",
      "metadata": {
        "id": "view-in-github",
        "colab_type": "text"
      },
      "source": [
        "<a href=\"https://colab.research.google.com/github/Ravindrakumarnayak/python_practice_daywise/blob/main/python_day10_function.ipynb\" target=\"_parent\"><img src=\"https://colab.research.google.com/assets/colab-badge.svg\" alt=\"Open In Colab\"/></a>"
      ]
    },
    {
      "cell_type": "code",
      "execution_count": 4,
      "metadata": {
        "colab": {
          "base_uri": "https://localhost:8080/"
        },
        "id": "9u6rc9SRksii",
        "outputId": "20254127-0c3e-4876-f285-bf912b95cd74"
      },
      "outputs": [
        {
          "output_type": "stream",
          "name": "stdout",
          "text": [
            "enter the number23\n",
            "enter the 2nd number23\n",
            "46\n"
          ]
        }
      ],
      "source": [
        "def add(a,b):\n",
        "  print(a+b)\n",
        "\n",
        "c=int(input(\"enter the number\"))\n",
        "d=int(input(\"enter the 2nd number\"))\n",
        "\n",
        "add(c,d)"
      ]
    },
    {
      "cell_type": "code",
      "source": [
        "def add(a,b):\n",
        "  print(a+b)\n",
        "\n",
        "a=int(input(\"enter the number\"))\n",
        "b=int(input(\"enter the 2nd number\"))\n",
        "\n",
        "add(a,b)"
      ],
      "metadata": {
        "colab": {
          "base_uri": "https://localhost:8080/"
        },
        "id": "VxK-a5BplFoE",
        "outputId": "87156934-300b-4ab0-d848-528155ffe8e4"
      },
      "execution_count": 7,
      "outputs": [
        {
          "output_type": "stream",
          "name": "stdout",
          "text": [
            "enter the number12\n",
            "enter the 2nd number23\n",
            "35\n"
          ]
        }
      ]
    },
    {
      "cell_type": "code",
      "source": [
        "def name(fname):\n",
        "  print(\"enter the name\",fname)\n",
        "\n",
        "name('ravi')\n",
        "name(\"ironman\")\n",
        "name(\"stoic\")"
      ],
      "metadata": {
        "colab": {
          "base_uri": "https://localhost:8080/"
        },
        "id": "u09JNAdPlZDp",
        "outputId": "f9af16ef-c6c7-43f0-9b23-67ef7d4e95f3"
      },
      "execution_count": 8,
      "outputs": [
        {
          "output_type": "stream",
          "name": "stdout",
          "text": [
            "enter the name ravi\n",
            "enter the name ironman\n",
            "enter the name stoic\n"
          ]
        }
      ]
    },
    {
      "cell_type": "code",
      "source": [
        "def add(a,b):\n",
        "  print(a+b)\n",
        "\n",
        "a=int(input(\"enter the number\"))\n",
        "b=int(input(\"enter the 2nd number\"))\n",
        "\n",
        "add(a,b)\n"
      ],
      "metadata": {
        "colab": {
          "base_uri": "https://localhost:8080/"
        },
        "id": "RtJSKZaElZvV",
        "outputId": "104020c8-ef77-4e8c-cfe4-e5138dbe6039"
      },
      "execution_count": 10,
      "outputs": [
        {
          "output_type": "stream",
          "name": "stdout",
          "text": [
            "enter the number23\n",
            "enter the 2nd number34\n",
            "57\n"
          ]
        }
      ]
    },
    {
      "cell_type": "code",
      "source": [
        "def add(a,b):\n",
        "  print(a*b)\n",
        "\n",
        "a=int(input(\"enter the number\"))\n",
        "b=int(input(\"enter the 2nd number\"))\n",
        "\n",
        "add(a,b)"
      ],
      "metadata": {
        "colab": {
          "base_uri": "https://localhost:8080/"
        },
        "id": "ELBe3i1YmF7q",
        "outputId": "50f49b77-62ad-459e-9efe-7bf507683001"
      },
      "execution_count": 11,
      "outputs": [
        {
          "output_type": "stream",
          "name": "stdout",
          "text": [
            "enter the number23\n",
            "enter the 2nd number2\n",
            "46\n"
          ]
        }
      ]
    },
    {
      "cell_type": "code",
      "source": [
        "def hello():\n",
        "  print(\"hello world!\")\n",
        "\n",
        "hello()"
      ],
      "metadata": {
        "colab": {
          "base_uri": "https://localhost:8080/"
        },
        "id": "L1XMjbTomOcP",
        "outputId": "6d91b7ca-5b5f-4805-8bab-04d8def64b74"
      },
      "execution_count": 12,
      "outputs": [
        {
          "output_type": "stream",
          "name": "stdout",
          "text": [
            "hello world!\n"
          ]
        }
      ]
    },
    {
      "cell_type": "code",
      "source": [
        "hello()"
      ],
      "metadata": {
        "colab": {
          "base_uri": "https://localhost:8080/"
        },
        "id": "glER5B2kmdbR",
        "outputId": "d408fe08-5851-4647-981c-5b4f81ce2b13"
      },
      "execution_count": 13,
      "outputs": [
        {
          "output_type": "stream",
          "name": "stdout",
          "text": [
            "hello world!\n"
          ]
        }
      ]
    },
    {
      "cell_type": "code",
      "source": [
        "def hello():\n",
        "\n",
        "  print(\"hello world!\")\n",
        "\n",
        "hello()"
      ],
      "metadata": {
        "colab": {
          "base_uri": "https://localhost:8080/"
        },
        "id": "3stOFf0Tme_s",
        "outputId": "fe0deb11-1b18-426f-df40-6540d4a5ebf5"
      },
      "execution_count": 19,
      "outputs": [
        {
          "output_type": "stream",
          "name": "stdout",
          "text": [
            "hello world!\n"
          ]
        }
      ]
    },
    {
      "cell_type": "code",
      "source": [
        "def name(fname):\n",
        "  print(\"hello\",fname)\n",
        "\n",
        "name('ravi')\n",
        "name(\"ironman\")\n",
        "name(\"stoic\")"
      ],
      "metadata": {
        "colab": {
          "base_uri": "https://localhost:8080/"
        },
        "id": "4LlV33YOmq46",
        "outputId": "4a7771dd-baf3-428d-8408-f4f5ce13f905"
      },
      "execution_count": 20,
      "outputs": [
        {
          "output_type": "stream",
          "name": "stdout",
          "text": [
            "hello ravi\n",
            "hello ironman\n",
            "hello stoic\n"
          ]
        }
      ]
    },
    {
      "cell_type": "code",
      "source": [
        "def marks():\n",
        "  for i in range(3):\n",
        "      m=(int(input('enter the marks:')))\n",
        "      print(m)\n",
        "\n",
        "marks()"
      ],
      "metadata": {
        "colab": {
          "base_uri": "https://localhost:8080/"
        },
        "id": "2yYy937IoLvR",
        "outputId": "363bc943-cd5c-4d15-a9c8-5485314c2317"
      },
      "execution_count": 30,
      "outputs": [
        {
          "output_type": "stream",
          "name": "stdout",
          "text": [
            "enter the marks:34\n",
            "34\n",
            "enter the marks:22\n",
            "22\n",
            "enter the marks:2\n",
            "2\n"
          ]
        }
      ]
    },
    {
      "cell_type": "code",
      "source": [
        "\n",
        "def fruits(fruits):\n",
        "  for i in fruits:\n",
        "    print(i)\n",
        "\n",
        "food=[\"apple\",\"banana\"]\n",
        "fruits(food)\n",
        "\n"
      ],
      "metadata": {
        "colab": {
          "base_uri": "https://localhost:8080/"
        },
        "id": "a7kQV0c9pEGA",
        "outputId": "6071bd79-9e0d-462c-df1e-0e5ebe814961"
      },
      "execution_count": 29,
      "outputs": [
        {
          "output_type": "stream",
          "name": "stdout",
          "text": [
            "apple\n",
            "banana\n"
          ]
        }
      ]
    },
    {
      "cell_type": "code",
      "source": [
        "def student(age,grade):\n",
        "  print(\"my age is:\",age,\"my grade is:\",grade)\n",
        "\n",
        "age=input(\"enter age\")\n",
        "grade=input(\"enter grade\")\n",
        "\n",
        "student(age,grade)"
      ],
      "metadata": {
        "colab": {
          "base_uri": "https://localhost:8080/"
        },
        "id": "R0_yykVmqBVc",
        "outputId": "33a60887-dd44-4363-dfb6-527bbbaabe24"
      },
      "execution_count": 31,
      "outputs": [
        {
          "output_type": "stream",
          "name": "stdout",
          "text": [
            "enter age23\n",
            "enter grade12\n",
            "my age is: 23 my grade is: 12\n"
          ]
        }
      ]
    },
    {
      "cell_type": "code",
      "source": [
        "def add(c,d):\n",
        "  c=a+b\n",
        "  return c\n",
        "\n",
        "c=int(input(\"enter the number\"))\n",
        "d=int(input(\"enter the number\"))\n",
        "\n",
        "add1=c+d\n",
        "\n",
        "print(add1)"
      ],
      "metadata": {
        "colab": {
          "base_uri": "https://localhost:8080/"
        },
        "id": "Q3qc98avq7fB",
        "outputId": "7e91375c-a4d1-4f9c-d35e-51dca0da350b"
      },
      "execution_count": 34,
      "outputs": [
        {
          "output_type": "stream",
          "name": "stdout",
          "text": [
            "enter the number23\n",
            "enter the number23\n",
            "46\n"
          ]
        }
      ]
    },
    {
      "cell_type": "code",
      "source": [
        "# lambda function is used to reduce number of code of the line\n",
        "\n",
        "\n",
        "add =lambda a,b:a+b\n",
        "print(add(7,12))"
      ],
      "metadata": {
        "colab": {
          "base_uri": "https://localhost:8080/"
        },
        "id": "o0J3to9krm5W",
        "outputId": "f9604272-d9db-4555-9521-e0837a82eef8"
      },
      "execution_count": 38,
      "outputs": [
        {
          "output_type": "stream",
          "name": "stdout",
          "text": [
            "19\n"
          ]
        }
      ]
    },
    {
      "cell_type": "code",
      "source": [
        "multiply= lambda a,b:a*b\n",
        "\n",
        "print(multiply(2,3))"
      ],
      "metadata": {
        "colab": {
          "base_uri": "https://localhost:8080/"
        },
        "id": "eDDha-XvuX8O",
        "outputId": "9bdb6ba4-5841-4a97-e4fc-aa107bb32946"
      },
      "execution_count": 39,
      "outputs": [
        {
          "output_type": "stream",
          "name": "stdout",
          "text": [
            "6\n"
          ]
        }
      ]
    },
    {
      "cell_type": "code",
      "source": [],
      "metadata": {
        "id": "UmeSlLmju1Y5"
      },
      "execution_count": null,
      "outputs": []
    }
  ]
}