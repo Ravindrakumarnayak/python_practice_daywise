{
  "nbformat": 4,
  "nbformat_minor": 0,
  "metadata": {
    "colab": {
      "provenance": [],
      "authorship_tag": "ABX9TyOuFXwxluts089/Z5RYaApT",
      "include_colab_link": true
    },
    "kernelspec": {
      "name": "python3",
      "display_name": "Python 3"
    },
    "language_info": {
      "name": "python"
    }
  },
  "cells": [
    {
      "cell_type": "markdown",
      "metadata": {
        "id": "view-in-github",
        "colab_type": "text"
      },
      "source": [
        "<a href=\"https://colab.research.google.com/github/Ravindrakumarnayak/python_practice_daywise/blob/main/python_day6_practice_loop.ipynb\" target=\"_parent\"><img src=\"https://colab.research.google.com/assets/colab-badge.svg\" alt=\"Open In Colab\"/></a>"
      ]
    },
    {
      "cell_type": "code",
      "execution_count": null,
      "metadata": {
        "id": "b9uqRDF5liLk"
      },
      "outputs": [],
      "source": [
        "# loops, while"
      ]
    },
    {
      "cell_type": "code",
      "source": [
        "i=0 # initialize\n",
        "while(i<10): # condition\n",
        "  print(\"abc\")  # print\n",
        "  i=i+1 # increament i++ is in java here won't work"
      ],
      "metadata": {
        "colab": {
          "base_uri": "https://localhost:8080/"
        },
        "id": "W-guIlWxouZO",
        "outputId": "11cbbc3e-1231-421b-bf12-6524b965dbdd"
      },
      "execution_count": 3,
      "outputs": [
        {
          "output_type": "stream",
          "name": "stdout",
          "text": [
            "abc\n",
            "abc\n",
            "abc\n",
            "abc\n",
            "abc\n",
            "abc\n",
            "abc\n",
            "abc\n",
            "abc\n",
            "abc\n"
          ]
        }
      ]
    },
    {
      "cell_type": "code",
      "source": [
        "for i in range(10):\n",
        "  print(\"abc\")"
      ],
      "metadata": {
        "colab": {
          "base_uri": "https://localhost:8080/"
        },
        "id": "O_arOqjMpD01",
        "outputId": "e02569ad-affa-47b7-c7b4-fc0288c42ffd"
      },
      "execution_count": 1,
      "outputs": [
        {
          "output_type": "stream",
          "name": "stdout",
          "text": [
            "abc\n",
            "abc\n",
            "abc\n",
            "abc\n",
            "abc\n",
            "abc\n",
            "abc\n",
            "abc\n",
            "abc\n",
            "abc\n"
          ]
        }
      ]
    },
    {
      "cell_type": "code",
      "source": [
        "i=0\n",
        "while(i<51):\n",
        "  print(i)\n",
        "  i=i+5"
      ],
      "metadata": {
        "colab": {
          "base_uri": "https://localhost:8080/"
        },
        "id": "x5VpSXkXpHRT",
        "outputId": "0d9ead12-8b3d-4200-8b53-00912a728e3a"
      },
      "execution_count": 5,
      "outputs": [
        {
          "output_type": "stream",
          "name": "stdout",
          "text": [
            "0\n",
            "5\n",
            "10\n",
            "15\n",
            "20\n",
            "25\n",
            "30\n",
            "35\n",
            "40\n",
            "45\n",
            "50\n"
          ]
        }
      ]
    },
    {
      "cell_type": "code",
      "source": [
        "# even number\n",
        "i=0\n",
        "while(i<51):\n",
        "  print(i)\n",
        "  i=i+2"
      ],
      "metadata": {
        "colab": {
          "base_uri": "https://localhost:8080/"
        },
        "id": "BruHpKPhptfx",
        "outputId": "479f09ce-d76b-4b79-b6ea-8d440b6e6b0e"
      },
      "execution_count": 7,
      "outputs": [
        {
          "output_type": "stream",
          "name": "stdout",
          "text": [
            "0\n",
            "2\n",
            "4\n",
            "6\n",
            "8\n",
            "10\n",
            "12\n",
            "14\n",
            "16\n",
            "18\n",
            "20\n",
            "22\n",
            "24\n",
            "26\n",
            "28\n",
            "30\n",
            "32\n",
            "34\n",
            "36\n",
            "38\n",
            "40\n",
            "42\n",
            "44\n",
            "46\n",
            "48\n",
            "50\n"
          ]
        }
      ]
    },
    {
      "cell_type": "code",
      "source": [
        "num=1\n",
        "while num!=0:\n",
        "  num=int(input(\"enter the number\"))\n",
        "  print(\"number is not zero\")\n"
      ],
      "metadata": {
        "colab": {
          "base_uri": "https://localhost:8080/"
        },
        "id": "k5VBKZ-Wp-Ok",
        "outputId": "4b2071c0-fd06-4396-c822-f51b92c7f7dc"
      },
      "execution_count": 9,
      "outputs": [
        {
          "output_type": "stream",
          "name": "stdout",
          "text": [
            "enter the number4\n",
            "number is not zero\n",
            "enter the number3\n",
            "number is not zero\n",
            "enter the number0\n",
            "number is not zero\n"
          ]
        }
      ]
    },
    {
      "cell_type": "code",
      "source": [
        "for i in range(10): #break\n",
        "   if i==4:\n",
        "\n",
        "      break\n",
        "   print(i)\n",
        "\n"
      ],
      "metadata": {
        "colab": {
          "base_uri": "https://localhost:8080/"
        },
        "id": "eHLTlKaRvU6K",
        "outputId": "d72aeecd-1623-4ee4-ea62-d7fe3b0eac66"
      },
      "execution_count": 20,
      "outputs": [
        {
          "output_type": "stream",
          "name": "stdout",
          "text": [
            "0\n",
            "1\n",
            "2\n",
            "3\n"
          ]
        }
      ]
    },
    {
      "cell_type": "code",
      "source": [
        "for i in range(10):  #continue\n",
        "   if i==4:\n",
        "\n",
        "      continue\n",
        "   print(i)"
      ],
      "metadata": {
        "colab": {
          "base_uri": "https://localhost:8080/"
        },
        "id": "_IPg4iaUwecD",
        "outputId": "b3258de9-6a9a-4c7b-b43e-ef1eff3a42a2"
      },
      "execution_count": 21,
      "outputs": [
        {
          "output_type": "stream",
          "name": "stdout",
          "text": [
            "0\n",
            "1\n",
            "2\n",
            "3\n",
            "5\n",
            "6\n",
            "7\n",
            "8\n",
            "9\n"
          ]
        }
      ]
    },
    {
      "cell_type": "code",
      "source": [
        "for i in \"The\", \"core\", \"python\", \"class\", \"is\", \"amazing\":  #continue\n",
        "    if i == \"core\":\n",
        "\n",
        "      continue\n",
        "    print(i)"
      ],
      "metadata": {
        "colab": {
          "base_uri": "https://localhost:8080/"
        },
        "id": "vth8G4XbxFuk",
        "outputId": "5f988265-eb50-4e70-afa4-2660ee34bb80"
      },
      "execution_count": 55,
      "outputs": [
        {
          "output_type": "stream",
          "name": "stdout",
          "text": [
            "The\n",
            "python\n",
            "class\n",
            "is\n",
            "amazing\n"
          ]
        }
      ]
    },
    {
      "cell_type": "code",
      "source": [
        "for i in [\"The core python class is amazing\"]:  #break\n",
        "   if (i == \"core\"):\n",
        "\n",
        "      break\n",
        "   print(i)"
      ],
      "metadata": {
        "colab": {
          "base_uri": "https://localhost:8080/"
        },
        "id": "YVqhfpWGxlYk",
        "outputId": "fb66ddcc-13da-419a-935e-c8c9abc29e57"
      },
      "execution_count": 47,
      "outputs": [
        {
          "output_type": "stream",
          "name": "stdout",
          "text": [
            "The core python class is amazing\n"
          ]
        }
      ]
    },
    {
      "cell_type": "code",
      "source": [
        "# write a program to COUNT THE ALPHABET\n",
        "\n",
        "\n",
        "essay= input(\"enter the essay\")\n",
        "\n",
        "x=len(essay)\n",
        "print(x)\n"
      ],
      "metadata": {
        "colab": {
          "base_uri": "https://localhost:8080/"
        },
        "id": "ddJi07f_yRDS",
        "outputId": "6bae383c-d956-48a0-e103-2bbbc4f980cd"
      },
      "execution_count": 35,
      "outputs": [
        {
          "output_type": "stream",
          "name": "stdout",
          "text": [
            "enter the essaysdsdvsdhjvbsdhvsdgjvsducbcakjdcbadcbakcbcasc bxhkcbas chjascbdcda sashdbdashdbasibuifhequidnasusidhqdq389j\n",
            "106\n"
          ]
        }
      ]
    },
    {
      "cell_type": "code",
      "source": [
        "for i in 'string':\n",
        "  if i=='t':\n",
        "    break\n",
        "  print(i)"
      ],
      "metadata": {
        "colab": {
          "base_uri": "https://localhost:8080/"
        },
        "id": "O_3tfvhxz0Cg",
        "outputId": "cb331b76-4d07-4bda-8d45-7823b0085fb1"
      },
      "execution_count": 44,
      "outputs": [
        {
          "output_type": "stream",
          "name": "stdout",
          "text": [
            "s\n"
          ]
        }
      ]
    },
    {
      "cell_type": "code",
      "source": [
        "for i in 'string':\n",
        "  if i=='t':\n",
        "    continue\n",
        "  print(i)"
      ],
      "metadata": {
        "colab": {
          "base_uri": "https://localhost:8080/"
        },
        "id": "Li6W2Qrp1KCR",
        "outputId": "460111ad-6403-4ddf-b736-6619ee24f58b"
      },
      "execution_count": 45,
      "outputs": [
        {
          "output_type": "stream",
          "name": "stdout",
          "text": [
            "s\n",
            "r\n",
            "i\n",
            "n\n",
            "g\n"
          ]
        }
      ]
    },
    {
      "cell_type": "code",
      "source": [
        "# to check the word count using split function\n",
        "\n",
        "\n",
        "essay=input()\n",
        "words=len(essay.split())\n",
        "print(\"the essay count is:\", words)\n"
      ],
      "metadata": {
        "colab": {
          "base_uri": "https://localhost:8080/"
        },
        "id": "qNFeref_1niE",
        "outputId": "6f729745-7f85-47ca-80c0-b93c1e2c2901"
      },
      "execution_count": 60,
      "outputs": [
        {
          "output_type": "stream",
          "name": "stdout",
          "text": [
            "dfafafasfasdadaf af sdf sda fasd f af a fa ddf da fasd fs df asddf sddf sdf \n",
            "the essay count is: 17\n"
          ]
        }
      ]
    },
    {
      "cell_type": "code",
      "source": [
        "txt= \"hello,my name is robin, i am working in concentrix\"\n",
        "a=txt.split( \",\")\n",
        "print(a)"
      ],
      "metadata": {
        "colab": {
          "base_uri": "https://localhost:8080/"
        },
        "id": "f_Nxj4Zj4Glj",
        "outputId": "206f72b4-1c81-4ea1-f4e0-3c1f917d98ab"
      },
      "execution_count": 64,
      "outputs": [
        {
          "output_type": "stream",
          "name": "stdout",
          "text": [
            "['hello', 'my name is robin', ' i am working in concentrix']\n"
          ]
        }
      ]
    },
    {
      "cell_type": "code",
      "source": [
        "for letter in \"python\":\n",
        "  if i=='h':\n",
        "    pass\n",
        "  print( letter)\n",
        "\n",
        "\n"
      ],
      "metadata": {
        "colab": {
          "base_uri": "https://localhost:8080/"
        },
        "id": "EgkvQ4Tl4u8J",
        "outputId": "c1229cc1-a5cb-41c8-a0f4-eaa2c73246bf"
      },
      "execution_count": 66,
      "outputs": [
        {
          "output_type": "stream",
          "name": "stdout",
          "text": [
            "p\n",
            "y\n",
            "t\n",
            "h\n",
            "o\n",
            "n\n"
          ]
        }
      ]
    },
    {
      "cell_type": "code",
      "source": [
        "a=23\n",
        "b=45\n",
        "if a>b:\n",
        "  pass\n",
        "print(\"b<a\")"
      ],
      "metadata": {
        "colab": {
          "base_uri": "https://localhost:8080/"
        },
        "id": "tl5JR9NZ6c1V",
        "outputId": "d9faf78b-c2f6-4c08-9081-04adce9ce2af"
      },
      "execution_count": 69,
      "outputs": [
        {
          "output_type": "stream",
          "name": "stdout",
          "text": [
            "b<a\n"
          ]
        }
      ]
    },
    {
      "cell_type": "code",
      "source": [],
      "metadata": {
        "id": "GXRvK0pZ82xJ"
      },
      "execution_count": null,
      "outputs": []
    }
  ]
}