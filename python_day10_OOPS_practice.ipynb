{
  "nbformat": 4,
  "nbformat_minor": 0,
  "metadata": {
    "colab": {
      "provenance": [],
      "authorship_tag": "ABX9TyMdUIIhVC4H6+OM6ooloExs",
      "include_colab_link": true
    },
    "kernelspec": {
      "name": "python3",
      "display_name": "Python 3"
    },
    "language_info": {
      "name": "python"
    }
  },
  "cells": [
    {
      "cell_type": "markdown",
      "metadata": {
        "id": "view-in-github",
        "colab_type": "text"
      },
      "source": [
        "<a href=\"https://colab.research.google.com/github/Ravindrakumarnayak/python_practice_daywise/blob/main/python_day10_OOPS_practice.ipynb\" target=\"_parent\"><img src=\"https://colab.research.google.com/assets/colab-badge.svg\" alt=\"Open In Colab\"/></a>"
      ]
    },
    {
      "cell_type": "code",
      "execution_count": 1,
      "metadata": {
        "id": "jNBRYYwRvRqv"
      },
      "outputs": [],
      "source": [
        "#class, keywords- properties and method"
      ]
    },
    {
      "cell_type": "code",
      "source": [
        "class myclass:\n",
        "  x=7\n",
        "\n",
        "print(myclass)"
      ],
      "metadata": {
        "colab": {
          "base_uri": "https://localhost:8080/"
        },
        "id": "uWET7tHZynBW",
        "outputId": "2d48060f-658a-4687-e2d3-09b782f947be"
      },
      "execution_count": 2,
      "outputs": [
        {
          "output_type": "stream",
          "name": "stdout",
          "text": [
            "<class '__main__.myclass'>\n"
          ]
        }
      ]
    },
    {
      "cell_type": "code",
      "source": [
        "class myclass:\n",
        "  x=7\n",
        "\n",
        "p=myclass()\n",
        "print(myclass)"
      ],
      "metadata": {
        "colab": {
          "base_uri": "https://localhost:8080/"
        },
        "id": "XHouEfgDyrbo",
        "outputId": "86bfcfbd-1807-491c-bd8d-ed058c91cde6"
      },
      "execution_count": 3,
      "outputs": [
        {
          "output_type": "stream",
          "name": "stdout",
          "text": [
            "<class '__main__.myclass'>\n"
          ]
        }
      ]
    },
    {
      "cell_type": "code",
      "source": [
        "class myclass:\n",
        "  x=7\n",
        "\n",
        "p=myclass() # p is object of class\n",
        "print(p.x) # to use object is with dot operator"
      ],
      "metadata": {
        "colab": {
          "base_uri": "https://localhost:8080/"
        },
        "id": "neXoMU8jzBcw",
        "outputId": "7f154094-0956-4360-d4d1-7c40d7e90d27"
      },
      "execution_count": 4,
      "outputs": [
        {
          "output_type": "stream",
          "name": "stdout",
          "text": [
            "7\n"
          ]
        }
      ]
    },
    {
      "cell_type": "code",
      "source": [
        "class myclass:\n",
        "  x=7\n",
        "  o=10\n",
        "\n",
        "p=myclass() # p is object of class\n",
        "print(p.x) # to use object is with dot operator\n",
        "print(p.o)"
      ],
      "metadata": {
        "colab": {
          "base_uri": "https://localhost:8080/"
        },
        "id": "LYb-aDxMzEN-",
        "outputId": "9789d954-b069-42a2-fd08-68b7af865246"
      },
      "execution_count": 5,
      "outputs": [
        {
          "output_type": "stream",
          "name": "stdout",
          "text": [
            "7\n",
            "10\n"
          ]
        }
      ]
    },
    {
      "cell_type": "code",
      "source": [
        "class student1:\n",
        "        def __init__(self,name,age): #constructor\n",
        "           self.name=name\n",
        "           self.age=age\n",
        "\n",
        "        def myfunc(self):\n",
        "            print(\"my name is:\", self.name,self.age)\n",
        "\n",
        "p= student1(\"ravi\",22)\n",
        "p.myfunc()\n",
        "\n"
      ],
      "metadata": {
        "colab": {
          "base_uri": "https://localhost:8080/"
        },
        "id": "4ZgJpVKrzT_N",
        "outputId": "5f044a48-9c46-4a84-9f6d-6e060c66eafd"
      },
      "execution_count": 13,
      "outputs": [
        {
          "output_type": "stream",
          "name": "stdout",
          "text": [
            "my name is: ravi 22\n"
          ]
        }
      ]
    },
    {
      "cell_type": "code",
      "source": [
        "class student1:\n",
        "        def __init__(self,name,age): #constructor\n",
        "           self.name=name\n",
        "           self.age=age\n",
        "\n",
        "        def myfunc(self):\n",
        "            print(\"my name is:\", self.name,self.age)\n",
        "\n",
        "class child(student1):\n",
        "  pass\n",
        "\n",
        "p= child(\"ravi\",22)\n",
        "p.myfunc()\n",
        "\n"
      ],
      "metadata": {
        "colab": {
          "base_uri": "https://localhost:8080/"
        },
        "id": "_SpE4NFg2QDN",
        "outputId": "1dc3db4a-2ef0-471e-9bd8-cbe90feca0d8"
      },
      "execution_count": 14,
      "outputs": [
        {
          "output_type": "stream",
          "name": "stdout",
          "text": [
            "my name is: ravi 22\n"
          ]
        }
      ]
    },
    {
      "cell_type": "code",
      "source": [
        "class student1:\n",
        "        def __init__(self,name,age): #constructor\n",
        "           self.name=name\n",
        "           self.age=age\n",
        "\n",
        "        def myfunc(self):\n",
        "            print(\"my name is:\", self.name,self.age)\n",
        "\n",
        "class child(student1):\n",
        "  def __init__(self,name,age):\n",
        "     super().__init__(name,age)\n",
        "     self.year=2019\n",
        "\n",
        "\n",
        "p= child(\"ravi\",22)\n",
        "p.myfunc()\n",
        "print(p.year)"
      ],
      "metadata": {
        "colab": {
          "base_uri": "https://localhost:8080/"
        },
        "id": "eRE9XeQh4ltb",
        "outputId": "d295cb91-9fb6-4c46-bb95-bd6b8da17047"
      },
      "execution_count": 21,
      "outputs": [
        {
          "output_type": "stream",
          "name": "stdout",
          "text": [
            "my name is: ravi 22\n",
            "2019\n"
          ]
        }
      ]
    },
    {
      "cell_type": "code",
      "source": [],
      "metadata": {
        "id": "BoVeIYAy5gGI"
      },
      "execution_count": null,
      "outputs": []
    }
  ]
}