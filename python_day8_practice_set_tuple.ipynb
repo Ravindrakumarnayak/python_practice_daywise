{
  "nbformat": 4,
  "nbformat_minor": 0,
  "metadata": {
    "colab": {
      "provenance": [],
      "authorship_tag": "ABX9TyOYytxkosIPL8dSOv89CbCe",
      "include_colab_link": true
    },
    "kernelspec": {
      "name": "python3",
      "display_name": "Python 3"
    },
    "language_info": {
      "name": "python"
    }
  },
  "cells": [
    {
      "cell_type": "markdown",
      "metadata": {
        "id": "view-in-github",
        "colab_type": "text"
      },
      "source": [
        "<a href=\"https://colab.research.google.com/github/Ravindrakumarnayak/python_practice_daywise/blob/main/python_day8_practice_set_tuple.ipynb\" target=\"_parent\"><img src=\"https://colab.research.google.com/assets/colab-badge.svg\" alt=\"Open In Colab\"/></a>"
      ]
    },
    {
      "cell_type": "code",
      "execution_count": 3,
      "metadata": {
        "colab": {
          "base_uri": "https://localhost:8080/"
        },
        "id": "cz1uj00-QLEx",
        "outputId": "d1cfc7cf-1d9b-43f4-c323-e05033665a23"
      },
      "outputs": [
        {
          "output_type": "execute_result",
          "data": {
            "text/plain": [
              "['mango', 'banana', -1, -45, 6, 'python']"
            ]
          },
          "metadata": {},
          "execution_count": 3
        }
      ],
      "source": [
        "list1=[\"mango\", \"banana\",-1,-45,6,\"python\"]\n",
        "list1\n"
      ]
    },
    {
      "cell_type": "code",
      "source": [
        "list1[-1][-1]"
      ],
      "metadata": {
        "colab": {
          "base_uri": "https://localhost:8080/",
          "height": 36
        },
        "id": "sJOQKcuuS5Ca",
        "outputId": "8ac7dfb8-69ab-4f36-c06a-5baec50f9549"
      },
      "execution_count": 4,
      "outputs": [
        {
          "output_type": "execute_result",
          "data": {
            "text/plain": [
              "'n'"
            ],
            "application/vnd.google.colaboratory.intrinsic+json": {
              "type": "string"
            }
          },
          "metadata": {},
          "execution_count": 4
        }
      ]
    },
    {
      "cell_type": "code",
      "source": [
        "list1[1][5]"
      ],
      "metadata": {
        "colab": {
          "base_uri": "https://localhost:8080/",
          "height": 36
        },
        "id": "1zQWIz4WS-pb",
        "outputId": "0cc933bd-99e8-42ac-faae-d72005925943"
      },
      "execution_count": 5,
      "outputs": [
        {
          "output_type": "execute_result",
          "data": {
            "text/plain": [
              "'a'"
            ],
            "application/vnd.google.colaboratory.intrinsic+json": {
              "type": "string"
            }
          },
          "metadata": {},
          "execution_count": 5
        }
      ]
    },
    {
      "cell_type": "code",
      "source": [
        "list1[1][0]"
      ],
      "metadata": {
        "colab": {
          "base_uri": "https://localhost:8080/",
          "height": 36
        },
        "id": "FAs_x8gNTNQn",
        "outputId": "2d67fc7c-265b-4d1c-92d5-7bfbe949bb34"
      },
      "execution_count": 6,
      "outputs": [
        {
          "output_type": "execute_result",
          "data": {
            "text/plain": [
              "'b'"
            ],
            "application/vnd.google.colaboratory.intrinsic+json": {
              "type": "string"
            }
          },
          "metadata": {},
          "execution_count": 6
        }
      ]
    },
    {
      "cell_type": "code",
      "source": [
        "#tuple"
      ],
      "metadata": {
        "id": "eJ9g0OmITSz0"
      },
      "execution_count": 7,
      "outputs": []
    },
    {
      "cell_type": "code",
      "source": [
        "# tuple is()"
      ],
      "metadata": {
        "id": "ynUdGQ2IVDpM"
      },
      "execution_count": null,
      "outputs": []
    },
    {
      "cell_type": "code",
      "source": [
        "t1=(45,53)"
      ],
      "metadata": {
        "id": "CSsFy3TzV2-h"
      },
      "execution_count": 8,
      "outputs": []
    },
    {
      "cell_type": "code",
      "source": [
        "type(t1)"
      ],
      "metadata": {
        "colab": {
          "base_uri": "https://localhost:8080/"
        },
        "id": "nzyRleFAV5jA",
        "outputId": "a278271d-2edd-41b6-9fa4-ab8eb46da8af"
      },
      "execution_count": 9,
      "outputs": [
        {
          "output_type": "execute_result",
          "data": {
            "text/plain": [
              "tuple"
            ]
          },
          "metadata": {},
          "execution_count": 9
        }
      ]
    },
    {
      "cell_type": "code",
      "source": [
        "t1=45,67"
      ],
      "metadata": {
        "id": "Pnj2uj7gV7sM"
      },
      "execution_count": 10,
      "outputs": []
    },
    {
      "cell_type": "code",
      "source": [
        "type(t1)"
      ],
      "metadata": {
        "colab": {
          "base_uri": "https://localhost:8080/"
        },
        "id": "X5m9JwEiV9kw",
        "outputId": "7a9a797c-b007-42d4-ccf7-bab7fb7cc2da"
      },
      "execution_count": 11,
      "outputs": [
        {
          "output_type": "execute_result",
          "data": {
            "text/plain": [
              "tuple"
            ]
          },
          "metadata": {},
          "execution_count": 11
        }
      ]
    },
    {
      "cell_type": "code",
      "source": [
        "# tuple is unchangeable,immutable, ordered,allow duplicate value"
      ],
      "metadata": {
        "id": "XSKPJGo8V--P"
      },
      "execution_count": 12,
      "outputs": []
    },
    {
      "cell_type": "code",
      "source": [
        "t1=(\"apple\")\n",
        "type(t1)"
      ],
      "metadata": {
        "colab": {
          "base_uri": "https://localhost:8080/"
        },
        "id": "zJR6er_QWi29",
        "outputId": "a640bfd2-51cc-451a-9c9c-b007bcdb5208"
      },
      "execution_count": 13,
      "outputs": [
        {
          "output_type": "execute_result",
          "data": {
            "text/plain": [
              "str"
            ]
          },
          "metadata": {},
          "execution_count": 13
        }
      ]
    },
    {
      "cell_type": "code",
      "source": [
        "t1=(\"apple\",)\n",
        "type(t1)"
      ],
      "metadata": {
        "colab": {
          "base_uri": "https://localhost:8080/"
        },
        "id": "qheZ8jQXXCRR",
        "outputId": "cf944d7e-4297-4a0f-d935-21bab10516e4"
      },
      "execution_count": 14,
      "outputs": [
        {
          "output_type": "execute_result",
          "data": {
            "text/plain": [
              "tuple"
            ]
          },
          "metadata": {},
          "execution_count": 14
        }
      ]
    },
    {
      "cell_type": "code",
      "source": [
        "# tuple is comma seperate type and to update we first convert and update with list, then reconvert tuple, tuple to tuple can be merged"
      ],
      "metadata": {
        "id": "tv1BRSqWXGmP"
      },
      "execution_count": 15,
      "outputs": []
    },
    {
      "cell_type": "code",
      "source": [
        "names=(\"apple\",\"ball\") #tuple\n",
        "l1=list(names) #list\n",
        "l1.append(\"abc\")#list\n",
        "t1=tuple(l1)#tuple\n",
        "t1"
      ],
      "metadata": {
        "colab": {
          "base_uri": "https://localhost:8080/"
        },
        "id": "xJgImy_7XKK0",
        "outputId": "1484b6e8-6b22-49c4-822f-1872c8c58cf4"
      },
      "execution_count": 16,
      "outputs": [
        {
          "output_type": "execute_result",
          "data": {
            "text/plain": [
              "('apple', 'ball', 'abc')"
            ]
          },
          "metadata": {},
          "execution_count": 16
        }
      ]
    },
    {
      "cell_type": "code",
      "source": [
        "type(l1)"
      ],
      "metadata": {
        "colab": {
          "base_uri": "https://localhost:8080/"
        },
        "id": "64he2uoIYq2_",
        "outputId": "a0ce68a4-20a0-422f-c40f-286b4ba81a45"
      },
      "execution_count": 17,
      "outputs": [
        {
          "output_type": "execute_result",
          "data": {
            "text/plain": [
              "list"
            ]
          },
          "metadata": {},
          "execution_count": 17
        }
      ]
    },
    {
      "cell_type": "code",
      "source": [
        "type(t1)"
      ],
      "metadata": {
        "colab": {
          "base_uri": "https://localhost:8080/"
        },
        "id": "kYDpxXBIYylH",
        "outputId": "ab4b48d5-63e4-49c5-888c-6799cb22d269"
      },
      "execution_count": 18,
      "outputs": [
        {
          "output_type": "execute_result",
          "data": {
            "text/plain": [
              "tuple"
            ]
          },
          "metadata": {},
          "execution_count": 18
        }
      ]
    },
    {
      "cell_type": "code",
      "source": [
        "type(names)"
      ],
      "metadata": {
        "colab": {
          "base_uri": "https://localhost:8080/"
        },
        "id": "iHtc-tdzY0dY",
        "outputId": "979d1601-1675-4695-84af-01757958b20c"
      },
      "execution_count": 19,
      "outputs": [
        {
          "output_type": "execute_result",
          "data": {
            "text/plain": [
              "tuple"
            ]
          },
          "metadata": {},
          "execution_count": 19
        }
      ]
    },
    {
      "cell_type": "code",
      "source": [
        "n1=(\"a\",\"b\")\n",
        "n2=(\"c\",\"d\")\n",
        "n1+n2"
      ],
      "metadata": {
        "colab": {
          "base_uri": "https://localhost:8080/"
        },
        "id": "G2bAVEn7Y8yz",
        "outputId": "0edc117f-98f8-4293-e94b-e07b5b5f98a2"
      },
      "execution_count": 21,
      "outputs": [
        {
          "output_type": "execute_result",
          "data": {
            "text/plain": [
              "('a', 'b', 'c', 'd')"
            ]
          },
          "metadata": {},
          "execution_count": 21
        }
      ]
    },
    {
      "cell_type": "code",
      "source": [
        "#n1*n2(not allowed)"
      ],
      "metadata": {
        "id": "TK5732ItZX3z"
      },
      "execution_count": 24,
      "outputs": []
    },
    {
      "cell_type": "code",
      "source": [
        "n3=( )\n",
        "n2+n3"
      ],
      "metadata": {
        "colab": {
          "base_uri": "https://localhost:8080/"
        },
        "id": "mnIJfSrzZ3Ys",
        "outputId": "72b718e1-3c08-4669-cbc5-6739faa9307c"
      },
      "execution_count": 25,
      "outputs": [
        {
          "output_type": "execute_result",
          "data": {
            "text/plain": [
              "('c', 'd')"
            ]
          },
          "metadata": {},
          "execution_count": 25
        }
      ]
    },
    {
      "cell_type": "code",
      "source": [
        "fruits=(\"apple\",\"banana\",\"grapes\",\"lemon\") #tuples #packing\n",
        "#(\"apple\",\"banana\",\"grapes\",\"lemon\")=fruits\n",
        "(apple,banana,grapes,lemon)=fruits #variables #unboxing #unpacking"
      ],
      "metadata": {
        "id": "ogfnyC96aBJO"
      },
      "execution_count": 33,
      "outputs": []
    },
    {
      "cell_type": "code",
      "source": [
        "print(apple)"
      ],
      "metadata": {
        "colab": {
          "base_uri": "https://localhost:8080/"
        },
        "id": "hL8TjLGva7KP",
        "outputId": "a5015447-17eb-467e-b7b5-93d8faaf10b4"
      },
      "execution_count": 29,
      "outputs": [
        {
          "output_type": "stream",
          "name": "stdout",
          "text": [
            "apple\n"
          ]
        }
      ]
    },
    {
      "cell_type": "code",
      "source": [
        "fruits+fruits"
      ],
      "metadata": {
        "colab": {
          "base_uri": "https://localhost:8080/"
        },
        "id": "RQSIVQPoa9iR",
        "outputId": "0d3fd2b6-d38b-4682-af23-d5d8bd6c1895"
      },
      "execution_count": 30,
      "outputs": [
        {
          "output_type": "execute_result",
          "data": {
            "text/plain": [
              "('apple', 'banana', 'grapes', 'lemon', 'apple', 'banana', 'grapes', 'lemon')"
            ]
          },
          "metadata": {},
          "execution_count": 30
        }
      ]
    },
    {
      "cell_type": "code",
      "source": [
        "fruits*2"
      ],
      "metadata": {
        "colab": {
          "base_uri": "https://localhost:8080/"
        },
        "id": "bbDsObiidfMl",
        "outputId": "d8cb8d8e-9859-4e34-91d5-78b26da8f04c"
      },
      "execution_count": 32,
      "outputs": [
        {
          "output_type": "execute_result",
          "data": {
            "text/plain": [
              "('apple', 'banana', 'grapes', 'lemon', 'apple', 'banana', 'grapes', 'lemon')"
            ]
          },
          "metadata": {},
          "execution_count": 32
        }
      ]
    },
    {
      "cell_type": "code",
      "source": [
        "for i in fruits:\n",
        "\n",
        "  if(i==\"banana\"):\n",
        "    print(i)\n",
        ""
      ],
      "metadata": {
        "colab": {
          "base_uri": "https://localhost:8080/"
        },
        "id": "ePSFkFQidhlj",
        "outputId": "8fb705e9-2a6d-4c2f-c491-e8cba48283e3"
      },
      "execution_count": 54,
      "outputs": [
        {
          "output_type": "stream",
          "name": "stdout",
          "text": [
            "banana\n"
          ]
        }
      ]
    },
    {
      "cell_type": "code",
      "source": [
        "(a,b,c,d)=fruits\n",
        "print(a)"
      ],
      "metadata": {
        "colab": {
          "base_uri": "https://localhost:8080/"
        },
        "id": "crt3Nl90e2zj",
        "outputId": "e18db09e-040b-4f76-919c-994f38b5d351"
      },
      "execution_count": 40,
      "outputs": [
        {
          "output_type": "stream",
          "name": "stdout",
          "text": [
            "apple\n"
          ]
        }
      ]
    },
    {
      "cell_type": "code",
      "source": [
        "print(b)"
      ],
      "metadata": {
        "colab": {
          "base_uri": "https://localhost:8080/"
        },
        "id": "zTNwQQ5PgMjm",
        "outputId": "9bf76974-03ea-491f-fb6b-43f35f3ac40f"
      },
      "execution_count": 41,
      "outputs": [
        {
          "output_type": "stream",
          "name": "stdout",
          "text": [
            "banana\n"
          ]
        }
      ]
    },
    {
      "cell_type": "code",
      "source": [
        "a1=1,2,3,4325,235,5,5324,12,312,4,4,4,4,43222,2,2,22,433,3,3,3\n",
        "\n",
        "a1"
      ],
      "metadata": {
        "colab": {
          "base_uri": "https://localhost:8080/"
        },
        "id": "TtzRx6z4gOU6",
        "outputId": "00951e99-b50a-4a05-c706-f86fd3a8e3c6"
      },
      "execution_count": 44,
      "outputs": [
        {
          "output_type": "execute_result",
          "data": {
            "text/plain": [
              "(1,\n",
              " 2,\n",
              " 3,\n",
              " 4325,\n",
              " 235,\n",
              " 5,\n",
              " 5324,\n",
              " 12,\n",
              " 312,\n",
              " 4,\n",
              " 4,\n",
              " 4,\n",
              " 4,\n",
              " 43222,\n",
              " 2,\n",
              " 2,\n",
              " 22,\n",
              " 433,\n",
              " 3,\n",
              " 3,\n",
              " 3)"
            ]
          },
          "metadata": {},
          "execution_count": 44
        }
      ]
    },
    {
      "cell_type": "code",
      "source": [
        "a1.count(3)"
      ],
      "metadata": {
        "colab": {
          "base_uri": "https://localhost:8080/"
        },
        "id": "4Fzj8NCIgY6X",
        "outputId": "b85c5133-eb98-4b3c-e5c3-776f5d659f9f"
      },
      "execution_count": 45,
      "outputs": [
        {
          "output_type": "execute_result",
          "data": {
            "text/plain": [
              "4"
            ]
          },
          "metadata": {},
          "execution_count": 45
        }
      ]
    },
    {
      "cell_type": "code",
      "source": [
        "a1.index(3)"
      ],
      "metadata": {
        "colab": {
          "base_uri": "https://localhost:8080/"
        },
        "id": "ZT6QeopJgeLz",
        "outputId": "ab98967b-2e54-4b9c-b69f-053206db23f5"
      },
      "execution_count": 46,
      "outputs": [
        {
          "output_type": "execute_result",
          "data": {
            "text/plain": [
              "2"
            ]
          },
          "metadata": {},
          "execution_count": 46
        }
      ]
    },
    {
      "cell_type": "code",
      "source": [
        "max(a1)"
      ],
      "metadata": {
        "colab": {
          "base_uri": "https://localhost:8080/"
        },
        "id": "fSPLBjAXghA1",
        "outputId": "d5adfaf9-c915-4056-a0ea-a89978b59e67"
      },
      "execution_count": 48,
      "outputs": [
        {
          "output_type": "execute_result",
          "data": {
            "text/plain": [
              "43222"
            ]
          },
          "metadata": {},
          "execution_count": 48
        }
      ]
    },
    {
      "cell_type": "code",
      "source": [
        "min(a1)"
      ],
      "metadata": {
        "colab": {
          "base_uri": "https://localhost:8080/"
        },
        "id": "cVDg1wx9gltS",
        "outputId": "26063b52-f821-401d-94b6-a185d25cf92a"
      },
      "execution_count": 49,
      "outputs": [
        {
          "output_type": "execute_result",
          "data": {
            "text/plain": [
              "1"
            ]
          },
          "metadata": {},
          "execution_count": 49
        }
      ]
    },
    {
      "cell_type": "code",
      "source": [
        "t1=()\n",
        "t2=(45,32,56,43,67)\n",
        "t1=t2\n",
        "t1 # swapped"
      ],
      "metadata": {
        "colab": {
          "base_uri": "https://localhost:8080/"
        },
        "id": "X_wQYXJLgpcE",
        "outputId": "6a2011e8-c3ae-416f-f852-6420045f11f7"
      },
      "execution_count": 52,
      "outputs": [
        {
          "output_type": "execute_result",
          "data": {
            "text/plain": [
              "(45, 32, 56, 43, 67)"
            ]
          },
          "metadata": {},
          "execution_count": 52
        }
      ]
    },
    {
      "cell_type": "code",
      "source": [
        "#set is unordered,unique value,{}"
      ],
      "metadata": {
        "id": "_RoHxhQph4Gz"
      },
      "execution_count": 55,
      "outputs": []
    },
    {
      "cell_type": "code",
      "source": [
        "a1={34,534,23234,7,12}\n",
        "a1 # unordered"
      ],
      "metadata": {
        "colab": {
          "base_uri": "https://localhost:8080/"
        },
        "id": "fzkt8UJQh9k4",
        "outputId": "f25bb225-d137-4525-c942-70dcfc382e89"
      },
      "execution_count": 56,
      "outputs": [
        {
          "output_type": "execute_result",
          "data": {
            "text/plain": [
              "{7, 12, 34, 534, 23234}"
            ]
          },
          "metadata": {},
          "execution_count": 56
        }
      ]
    },
    {
      "cell_type": "code",
      "source": [
        "type(a1)"
      ],
      "metadata": {
        "colab": {
          "base_uri": "https://localhost:8080/"
        },
        "id": "mSrhT7pqklLQ",
        "outputId": "f5f2f7bf-e3f7-49e9-d02e-b7b0b1c9eda4"
      },
      "execution_count": 57,
      "outputs": [
        {
          "output_type": "execute_result",
          "data": {
            "text/plain": [
              "set"
            ]
          },
          "metadata": {},
          "execution_count": 57
        }
      ]
    },
    {
      "cell_type": "code",
      "source": [
        "a2={\"apple\",\"ball\",\"lichi\",\"ball\"}\n",
        "a2 # unique value"
      ],
      "metadata": {
        "colab": {
          "base_uri": "https://localhost:8080/"
        },
        "id": "6eguChznknUA",
        "outputId": "09cdb7b0-091b-4852-af9e-e4622586010a"
      },
      "execution_count": 58,
      "outputs": [
        {
          "output_type": "execute_result",
          "data": {
            "text/plain": [
              "{'apple', 'ball', 'lichi'}"
            ]
          },
          "metadata": {},
          "execution_count": 58
        }
      ]
    },
    {
      "cell_type": "code",
      "source": [
        "s1={34,245,5343,\"swarn\",\"beauty\",\"tree\"}\n",
        "s1 # unordered output can be seen"
      ],
      "metadata": {
        "colab": {
          "base_uri": "https://localhost:8080/"
        },
        "id": "gSuZL8Yjkupm",
        "outputId": "b513d357-dead-4ff0-b5da-6463bdb2eec3"
      },
      "execution_count": 60,
      "outputs": [
        {
          "output_type": "execute_result",
          "data": {
            "text/plain": [
              "{245, 34, 5343, 'beauty', 'swarn', 'tree'}"
            ]
          },
          "metadata": {},
          "execution_count": 60
        }
      ]
    },
    {
      "cell_type": "code",
      "source": [],
      "metadata": {
        "id": "c08Ajd_0k_I4"
      },
      "execution_count": null,
      "outputs": []
    }
  ]
}